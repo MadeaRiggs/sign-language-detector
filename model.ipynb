{
 "cells": [
  {
   "cell_type": "code",
   "execution_count": 41,
   "metadata": {},
   "outputs": [],
   "source": [
    "import cv2 as cv\n",
    "import mediapipe as mp\n",
    "import numpy as np"
   ]
  },
  {
   "cell_type": "code",
   "execution_count": 42,
   "metadata": {},
   "outputs": [],
   "source": [
    "mp_drawing=mp.solutions.drawing_utils\n",
    "mp_holistic=mp.solutions.holistic\n"
   ]
  },
  {
   "cell_type": "code",
   "execution_count": null,
   "metadata": {},
   "outputs": [],
   "source": [
    "collected_data = []\n",
    "\n",
    "cap=cv.VideoCapture(0)\n",
    "\n",
    "collected_data = []\n",
    "\n",
    "with mp_holistic.Holistic(min_detection_confidence=0.5, min_tracking_confidence=0.5) as holistic:\n",
    "    for label in range(ord('A'), ord('Z')+1):  \n",
    "        label_char = chr(label)\n",
    "        \n",
    "        for _ in range(2): \n",
    "            print(f\"Collecting data for label: {label_char}\")\n",
    "\n",
    "            while cap.isOpened():\n",
    "                ret, frame = cap.read()\n",
    "\n",
    "                if not ret:\n",
    "                    print(\"Failed to capture frame\")\n",
    "                    break\n",
    "\n",
    "                img = cv.cvtColor(frame, cv.COLOR_BGR2RGB)\n",
    "                results = holistic.process(img)\n",
    "\n",
    "                img = cv.cvtColor(img, cv.COLOR_RGB2BGR)\n",
    "                mp_drawing.draw_landmarks(img, results.right_hand_landmarks, mp_holistic.HAND_CONNECTIONS,\n",
    "                                           mp_drawing.DrawingSpec(color=(0, 0, 255), thickness=2, circle_radius=2),\n",
    "                                           mp_drawing.DrawingSpec(color=(0, 255, 0), thickness=2, circle_radius=2))\n",
    "\n",
    "                mp_drawing.draw_landmarks(img, results.left_hand_landmarks, mp_holistic.HAND_CONNECTIONS,\n",
    "                                           mp_drawing.DrawingSpec(color=(0, 0, 255), thickness=2, circle_radius=2),\n",
    "                                           mp_drawing.DrawingSpec(color=(0, 255, 0), thickness=2, circle_radius=2))\n",
    "\n",
    "                cv.imshow('Video Capture', img)\n",
    "\n",
    "                key = cv.waitKey(10)\n",
    "                if key == ord(label_char):\n",
    "                    hand_landmarks = results.right_hand_landmarks\n",
    "                    collected_data.append((hand_landmarks, label_char))\n",
    "\n",
    "                elif key == ord('d'):\n",
    "                    break\n",
    "\n",
    "    np.save('collected_data.npy', collected_data)\n",
    "\n",
    "cap.release()\n",
    "cv.destroyAllWindows()"
   ]
  }
 ],
 "metadata": {
  "kernelspec": {
   "display_name": "Python 3",
   "language": "python",
   "name": "python3"
  },
  "language_info": {
   "codemirror_mode": {
    "name": "ipython",
    "version": 3
   },
   "file_extension": ".py",
   "mimetype": "text/x-python",
   "name": "python",
   "nbconvert_exporter": "python",
   "pygments_lexer": "ipython3",
   "version": "3.11.6"
  }
 },
 "nbformat": 4,
 "nbformat_minor": 2
}
